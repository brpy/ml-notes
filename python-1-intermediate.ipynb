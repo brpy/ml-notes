{
 "cells": [
  {
   "cell_type": "markdown",
   "id": "4629e988-3934-4f77-a0b6-3da2e6f7a389",
   "metadata": {},
   "source": [
    "## Does *this* have *this*"
   ]
  },
  {
   "cell_type": "code",
   "execution_count": 3,
   "id": "27908039-05df-46d6-81ae-523d01417519",
   "metadata": {},
   "outputs": [
    {
     "name": "stdout",
     "output_type": "stream",
     "text": [
      "['__abs__', '__add__', '__and__', '__bool__', '__ceil__', '__class__', '__delattr__', '__dir__', '__divmod__', '__doc__', '__eq__', '__float__', '__floor__', '__floordiv__', '__format__', '__ge__', '__getattribute__', '__getnewargs__', '__gt__', '__hash__', '__index__', '__init__', '__init_subclass__', '__int__', '__invert__', '__le__', '__lshift__', '__lt__', '__mod__', '__mul__', '__ne__', '__neg__', '__new__', '__or__', '__pos__', '__pow__', '__radd__', '__rand__', '__rdivmod__', '__reduce__', '__reduce_ex__', '__repr__', '__rfloordiv__', '__rlshift__', '__rmod__', '__rmul__', '__ror__', '__round__', '__rpow__', '__rrshift__', '__rshift__', '__rsub__', '__rtruediv__', '__rxor__', '__setattr__', '__sizeof__', '__str__', '__sub__', '__subclasshook__', '__truediv__', '__trunc__', '__xor__', 'as_integer_ratio', 'bit_length', 'conjugate', 'denominator', 'from_bytes', 'imag', 'numerator', 'real', 'to_bytes']\n"
     ]
    }
   ],
   "source": [
    "# To find list of all methods and attributes of an object use dir() or __dir__\n",
    "\n",
    "# It is a special dunder method that lists all methods and attributes\n",
    "\n",
    "a = 123\n",
    "print(dir(a)) # or a.__dir__()"
   ]
  },
  {
   "cell_type": "code",
   "execution_count": 23,
   "id": "4d2ccfed-da9d-45a6-a4ae-c425cd717f42",
   "metadata": {},
   "outputs": [
    {
     "name": "stdout",
     "output_type": "stream",
     "text": [
      "['__add__', '__class__', '__contains__', '__delattr__', '__delitem__', '__dir__', '__doc__', '__eq__', '__format__', '__ge__', '__getattribute__', '__getitem__', '__gt__', '__hash__', '__iadd__', '__imul__', '__init__', '__init_subclass__', '__iter__', '__le__', '__len__', '__lt__', '__mul__', '__ne__', '__new__', '__reduce__', '__reduce_ex__', '__repr__', '__reversed__', '__rmul__', '__setattr__', '__setitem__', '__sizeof__', '__str__', '__subclasshook__', 'append', 'clear', 'copy', 'count', 'extend', 'index', 'insert', 'pop', 'remove', 'reverse', 'sort']\n"
     ]
    }
   ],
   "source": [
    "# You can find any builtin/ objects methods and attributes this way\n",
    "\n",
    "print(dir(list))"
   ]
  },
  {
   "cell_type": "markdown",
   "id": "fbb8d46c-e125-4970-9373-e6ce3b4430ff",
   "metadata": {},
   "source": [
    "## Truthy / Falsy"
   ]
  },
  {
   "cell_type": "code",
   "execution_count": 12,
   "id": "4b67a989-eff6-4d50-856e-fb0bb2409824",
   "metadata": {},
   "outputs": [
    {
     "name": "stdout",
     "output_type": "stream",
     "text": [
      "5 is True\n",
      "0 is False\n",
      "-23.31 is True\n",
      "0.0 is False\n",
      "hello is True\n",
      " is False\n",
      "[1, 3, 'a'] is True\n",
      "[] is False\n",
      "(1223, 24, 'a', 'f') is True\n",
      "() is False\n"
     ]
    }
   ],
   "source": [
    "# Objects that have __bool__ can be used directly as a boolean\n",
    "# int : False if 0 else True\n",
    "# float : False if 0.0 else True\n",
    "# str : False if \"\" else True\n",
    "\n",
    "# iterables : False if [] else True # empty iterables are Falsy \n",
    "\n",
    "a = [5, 0, -23.31, 0.00, 'hello', '', [1,3,'a'], [], (1223,24,'a','f'), () ]\n",
    "\n",
    "for ele in a:\n",
    "    print(f\"{ele} is {bool(ele)}\")"
   ]
  },
  {
   "cell_type": "markdown",
   "id": "9c329c67-39cf-43b5-8e7f-96a6e48b6590",
   "metadata": {},
   "source": [
    "## Functional Python"
   ]
  },
  {
   "cell_type": "code",
   "execution_count": 20,
   "id": "a7bbc937-210c-4ab5-9706-1831561d27d0",
   "metadata": {},
   "outputs": [
    {
     "data": {
      "text/plain": [
       "False"
      ]
     },
     "execution_count": 20,
     "metadata": {},
     "output_type": "execute_result"
    }
   ],
   "source": [
    "# lambdas\n",
    "\n",
    "# Can take multiple arguments \n",
    "# Can have default arguments\n",
    "\n",
    "f = lambda x,y=5 : x+y/x-y\n",
    "\n",
    "# This is how to use if else in return type\n",
    "is_even = lambda x : True if x%2==0 else False\n",
    "even(5)   "
   ]
  },
  {
   "cell_type": "code",
   "execution_count": 25,
   "id": "d9640066-58a9-449f-b95d-eec6615e7c4d",
   "metadata": {},
   "outputs": [
    {
     "name": "stdout",
     "output_type": "stream",
     "text": [
      "<map object at 0x7fa1f851cd00>\n",
      "[102, 135, 102, 36, 30, -93]\n"
     ]
    }
   ],
   "source": [
    "# map\n",
    "# map is like a func mapping from math; Tranforms input through the function\n",
    "# map(func, iterable)\n",
    "\n",
    "def triple(x):\n",
    "    return 3*x\n",
    "\n",
    "prod = map(triple, [34, 45, 34, 12, 10, -31])\n",
    "\n",
    "# Just gives a Generator. Doesn't actually perform calculations\n",
    "print(prod)\n",
    "\n",
    "# To exhaust a Generator convert into a list/tuple\n",
    "print(list(prod))"
   ]
  },
  {
   "cell_type": "code",
   "execution_count": 26,
   "id": "35f4f7f4-09b6-4edf-a426-9e3346f0fcdd",
   "metadata": {},
   "outputs": [
    {
     "name": "stdout",
     "output_type": "stream",
     "text": [
      "[1, 6, -1, -11]\n"
     ]
    }
   ],
   "source": [
    "# starmap\n",
    "# map(f, iter) f takes each element from iter as a parameter\n",
    "# it cannot take multiple parameters\n",
    "\n",
    "#  You can use starmap from itertools for this\n",
    "from itertools import starmap\n",
    "\n",
    "def prod_sub(a, b, c):\n",
    "    return (a*b)-c\n",
    "\n",
    "res = starmap(prod_sub, [[1,2,1], [3,1,-3], [3,1,4], [-3,3,2]])\n",
    "print(list(res))"
   ]
  },
  {
   "cell_type": "code",
   "execution_count": 30,
   "id": "4bc82da6-156b-4ea6-91e2-f9a8357aa5af",
   "metadata": {},
   "outputs": [
    {
     "data": {
      "text/plain": [
       "10"
      ]
     },
     "execution_count": 30,
     "metadata": {},
     "output_type": "execute_result"
    }
   ],
   "source": [
    "# reduce\n",
    "from functools import reduce\n",
    "def my_sum(a, b):\n",
    "    return a+b\n",
    "\n",
    "numbers = [0, 1, 2, 3, 4]\n",
    "# 0+1 = 1\n",
    "# [1, 2, 3, 4]\n",
    "# 1 + 2 = 3\n",
    "# [3, 3, 4]\n",
    "# [6, 4]\n",
    "# 10\n",
    "reduce(my_sum, numbers)"
   ]
  },
  {
   "cell_type": "code",
   "execution_count": null,
   "id": "0896aed3-2d72-4d46-943e-60edeb1af016",
   "metadata": {},
   "outputs": [],
   "source": [
    "# all(), any()\n",
    "\n",
    "# all() returns if all elements in an iterable are Truthy\n",
    "# It immediately returns False if it encounters a Falsy element\n",
    "\n",
    "# any() returns if all elements in an iterable are Falsy\n",
    "# It immediately returns False if it encounters a Truthy element\n"
   ]
  }
 ],
 "metadata": {
  "kernelspec": {
   "display_name": "Python 3",
   "language": "python",
   "name": "python3"
  },
  "language_info": {
   "codemirror_mode": {
    "name": "ipython",
    "version": 3
   },
   "file_extension": ".py",
   "mimetype": "text/x-python",
   "name": "python",
   "nbconvert_exporter": "python",
   "pygments_lexer": "ipython3",
   "version": "3.8.8"
  }
 },
 "nbformat": 4,
 "nbformat_minor": 5
}
